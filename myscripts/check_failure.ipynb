{
 "cells": [
  {
   "cell_type": "code",
   "execution_count": 1,
   "id": "double-coating",
   "metadata": {},
   "outputs": [],
   "source": [
    "import os\n",
    "import sys\n",
    "import json\n",
    "from pathlib import Path"
   ]
  },
  {
   "cell_type": "code",
   "execution_count": 2,
   "id": "beneficial-surveillance",
   "metadata": {},
   "outputs": [],
   "source": [
    "count = 0\n",
    "total = 0\n",
    "mb    = 0\n",
    "p = \"../data/Phase1\"\n",
    "for d in os.listdir(p):\n",
    "    \n",
    "    path = os.path.join(p,d)\n",
    "    total += 1\n",
    "    \n",
    "    hb = 0\n",
    "    \n",
    "    for item in os.listdir(path):\n",
    "        if \"Header_Bidding\" in item:\n",
    "            if Path(os.path.join(path,item)).stat().st_size == 2:\n",
    "                mb += 1\n",
    "            hb = 1\n",
    "            \n",
    "    \n",
    "    if hb == 1:\n",
    "        count += 1"
   ]
  },
  {
   "cell_type": "markdown",
   "id": "marked-namibia",
   "metadata": {},
   "source": [
    "## Second Run"
   ]
  },
  {
   "cell_type": "code",
   "execution_count": 3,
   "id": "declared-niagara",
   "metadata": {},
   "outputs": [
    {
     "data": {
      "text/plain": [
       "(700, 367, 700, 0.5242857142857142, 0.4757142857142857)"
      ]
     },
     "execution_count": 3,
     "metadata": {},
     "output_type": "execute_result"
    }
   ],
   "source": [
    "count,mb,700,mb/count,(count-mb)/700"
   ]
  },
  {
   "cell_type": "markdown",
   "id": "handmade-azerbaijan",
   "metadata": {},
   "source": [
    "## First Run"
   ]
  },
  {
   "cell_type": "code",
   "execution_count": 4,
   "id": "oriental-hebrew",
   "metadata": {},
   "outputs": [
    {
     "data": {
      "text/plain": [
       "(675, 350, 700, 0.5185185185185185, 0.4642857142857143)"
      ]
     },
     "execution_count": 4,
     "metadata": {},
     "output_type": "execute_result"
    }
   ],
   "source": [
    "(675, 350, 700, 0.5185185185185185, 0.4642857142857143)"
   ]
  },
  {
   "cell_type": "markdown",
   "id": "direct-azerbaijan",
   "metadata": {},
   "source": [
    "## First Try (discarded)"
   ]
  },
  {
   "cell_type": "code",
   "execution_count": 5,
   "id": "formal-tuition",
   "metadata": {},
   "outputs": [
    {
     "data": {
      "text/plain": [
       "(1083, 871, 1400, 0.804247460757156, 0.15142857142857144)"
      ]
     },
     "execution_count": 5,
     "metadata": {},
     "output_type": "execute_result"
    }
   ],
   "source": [
    "(1083, 871, 1400, 871/1083,(1083-871)/1400) "
   ]
  },
  {
   "cell_type": "code",
   "execution_count": null,
   "id": "amazing-james",
   "metadata": {},
   "outputs": [],
   "source": []
  }
 ],
 "metadata": {
  "kernelspec": {
   "display_name": "Python 3",
   "language": "python",
   "name": "python3"
  },
  "language_info": {
   "codemirror_mode": {
    "name": "ipython",
    "version": 3
   },
   "file_extension": ".py",
   "mimetype": "text/x-python",
   "name": "python",
   "nbconvert_exporter": "python",
   "pygments_lexer": "ipython3",
   "version": "3.6.9"
  }
 },
 "nbformat": 4,
 "nbformat_minor": 5
}
